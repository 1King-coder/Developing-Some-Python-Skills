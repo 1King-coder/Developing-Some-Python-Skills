{
 "cells": [
  {
   "cell_type": "code",
   "execution_count": 1,
   "metadata": {},
   "outputs": [],
   "source": [
    "from sympy import *"
   ]
  },
  {
   "cell_type": "code",
   "execution_count": 16,
   "metadata": {},
   "outputs": [
    {
     "data": {
      "text/latex": [
       "$\\displaystyle \\sqrt{\\frac{δh_{1}^{2}}{L^{2}} + \\frac{δh_{2}^{2}}{L^{2}} + \\frac{δL^{2} \\left(h_{1} - h_{2}\\right)^{2}}{L^{4}}}$"
      ],
      "text/plain": [
       "sqrt(δh1**2/L**2 + δh2**2/L**2 + δL**2*(h1 - h2)**2/L**4)"
      ]
     },
     "execution_count": 16,
     "metadata": {},
     "output_type": "execute_result"
    }
   ],
   "source": [
    "h1, h2, L = symbols('h1 h2 L')\n",
    "\n",
    "sin_teta = (h1 - h2)/L\n",
    "\n",
    "\n",
    "\n",
    "def incertitudes_symbols (measures: list) -> dict:\n",
    "  incertitudes: dict = {}\n",
    "  \n",
    "  for measure in measures:\n",
    "    incertitudes[measure] = symbols(f'δ{str(measure)}')\n",
    "  \n",
    "  return incertitudes\n",
    "\n",
    "incertitudes = incertitudes_symbols([h1, h2, L])\n",
    "\n",
    "def error_propag (expr: Mul, errors: dict):\n",
    "  error_prop = 0\n",
    "\n",
    "  for error in errors.items():\n",
    "    error_prop += ((diff(expr, error[0]))**2)*(error[1])**2\n",
    "\n",
    "  error_prop = sqrt(error_prop)\n",
    "\n",
    "  return error_prop\n",
    "\n",
    "propagated_error = error_propag(sin_teta, incertitudes)\n",
    "\n",
    "\n",
    "propagated_error\n",
    "\n",
    "\n"
   ]
  }
 ],
 "metadata": {
  "kernelspec": {
   "display_name": "Python 3.10.7 64-bit",
   "language": "python",
   "name": "python3"
  },
  "language_info": {
   "codemirror_mode": {
    "name": "ipython",
    "version": 3
   },
   "file_extension": ".py",
   "mimetype": "text/x-python",
   "name": "python",
   "nbconvert_exporter": "python",
   "pygments_lexer": "ipython3",
   "version": "3.10.7"
  },
  "orig_nbformat": 4,
  "vscode": {
   "interpreter": {
    "hash": "26de051ba29f2982a8de78e945f0abaf191376122a1563185a90213a26c5da77"
   }
  }
 },
 "nbformat": 4,
 "nbformat_minor": 2
}
