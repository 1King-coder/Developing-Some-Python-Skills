{
 "cells": [
  {
   "cell_type": "code",
   "execution_count": 2,
   "metadata": {},
   "outputs": [],
   "source": [
    "from sympy import *"
   ]
  },
  {
   "cell_type": "code",
   "execution_count": 9,
   "metadata": {},
   "outputs": [
    {
     "name": "stdout",
     "output_type": "stream",
     "text": [
      "   2  \n",
      "π⋅D ⋅H\n",
      "──────\n",
      "  4   \n"
     ]
    },
    {
     "data": {
      "text/latex": [
       "$\\displaystyle \\frac{\\pi \\sqrt{D^{2} \\left(D^{2} δH^{2} + 4 H^{2} δD^{2}\\right)}}{4}$"
      ],
      "text/plain": [
       "pi*sqrt(D**2*(D**2*δH**2 + 4*H**2*δD**2))/4"
      ]
     },
     "execution_count": 9,
     "metadata": {},
     "output_type": "execute_result"
    }
   ],
   "source": [
    "D, H = symbols('D H')\n",
    "\n",
    "volume = (pi*(D**2)*H)/4\n",
    "\n",
    "\n",
    "\n",
    "test = {\n",
    "  'H': symbols('δH'),\n",
    "  'D': symbols('δD')\n",
    "}\n",
    "\n",
    "pprint(volume)\n",
    "\n",
    "def error_propag (expr: Mul, errors: dict):\n",
    "  error_prop = 0\n",
    "\n",
    "  for error in errors.items():\n",
    "    error_prop += ((diff(expr, error[0]))**2)*(error[1])**2\n",
    "\n",
    "  error_prop = sqrt(error_prop)\n",
    "\n",
    "  return error_prop\n",
    "\n",
    "error_propag(volume, test)"
   ]
  },
  {
   "cell_type": "code",
   "execution_count": 12,
   "metadata": {},
   "outputs": [
    {
     "data": {
      "text/latex": [
       "$\\displaystyle \\frac{e^{x} \\sin{\\left(x \\right)}}{2} - \\frac{e^{x} \\cos{\\left(x \\right)}}{2}$"
      ],
      "text/plain": [
       "exp(x)*sin(x)/2 - exp(x)*cos(x)/2"
      ]
     },
     "execution_count": 12,
     "metadata": {},
     "output_type": "execute_result"
    }
   ],
   "source": [
    "integrate(sin(x)*exp(x))"
   ]
  }
 ],
 "metadata": {
  "kernelspec": {
   "display_name": "Python 3.10.7 64-bit",
   "language": "python",
   "name": "python3"
  },
  "language_info": {
   "codemirror_mode": {
    "name": "ipython",
    "version": 3
   },
   "file_extension": ".py",
   "mimetype": "text/x-python",
   "name": "python",
   "nbconvert_exporter": "python",
   "pygments_lexer": "ipython3",
   "version": "3.10.7"
  },
  "orig_nbformat": 4,
  "vscode": {
   "interpreter": {
    "hash": "26de051ba29f2982a8de78e945f0abaf191376122a1563185a90213a26c5da77"
   }
  }
 },
 "nbformat": 4,
 "nbformat_minor": 2
}
